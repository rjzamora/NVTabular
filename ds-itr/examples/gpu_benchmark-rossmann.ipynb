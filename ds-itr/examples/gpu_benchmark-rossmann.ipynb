{
 "cells": [
  {
   "cell_type": "code",
   "execution_count": 1,
   "metadata": {},
   "outputs": [],
   "source": [
    "import os\n",
    "GPU_id = 1\n",
    "os.environ['CUDA_VISIBLE_DEVICES'] = str(GPU_id)"
   ]
  },
  {
   "cell_type": "code",
   "execution_count": 2,
   "metadata": {},
   "outputs": [],
   "source": [
    "import sys\n",
    "sys.path.insert(1, '../')"
   ]
  },
  {
   "cell_type": "code",
   "execution_count": 3,
   "metadata": {},
   "outputs": [
    {
     "name": "stderr",
     "output_type": "stream",
     "text": [
      "/conda/envs/rapids/lib/python3.7/site-packages/numba/cuda/envvars.py:17: NumbaWarning: \n",
      "Environment variables with the 'NUMBAPRO' prefix are deprecated and consequently ignored, found use of NUMBAPRO_NVVM=/usr/local/cuda/nvvm/lib64/libnvvm.so.\n",
      "\n",
      "For more information about alternatives visit: ('http://numba.pydata.org/numba-doc/latest/cuda/overview.html', '#cudatoolkit-lookup')\n",
      "  warnings.warn(errors.NumbaWarning(msg))\n",
      "/conda/envs/rapids/lib/python3.7/site-packages/numba/cuda/envvars.py:17: NumbaWarning: \n",
      "Environment variables with the 'NUMBAPRO' prefix are deprecated and consequently ignored, found use of NUMBAPRO_LIBDEVICE=/usr/local/cuda/nvvm/libdevice/.\n",
      "\n",
      "For more information about alternatives visit: ('http://numba.pydata.org/numba-doc/latest/cuda/overview.html', '#cudatoolkit-lookup')\n",
      "  warnings.warn(errors.NumbaWarning(msg))\n"
     ]
    }
   ],
   "source": [
    "import torch\n",
    "import pandas as pd\n",
    "import numpy as np\n",
    "from time import time \n",
    "# from ds_itr.adamw import AdamW as AW\n",
    "\n",
    "import fastai\n",
    "from fastai import *\n",
    "from fastai.basic_data import *\n",
    "from fastai.basic_data import *\n",
    "from fastai.tabular import *\n",
    "from fastai.basic_data import DataBunch\n",
    "from fastai.tabular import TabularModel\n",
    "\n",
    "import cudf\n",
    "\n",
    "from ds_itr.preproc import Preprocessor\n",
    "from ds_itr.ops import Normalize, FillMissing, Categorify, Moments, Median, Encoder\n",
    "from ds_itr.dl_encoder import DLLabelEncoder\n",
    "from ds_itr.ds_iterator import GPUDatasetIterator\n",
    "from ds_itr.batchloader import FileItrDataset, DLCollator, DLDataLoader, TensorItrDataset\n",
    "import warnings\n",
    "warnings.filterwarnings(\"ignore\")\n",
    "import matplotlib.pyplot as plt\n",
    "%matplotlib inline"
   ]
  },
  {
   "cell_type": "code",
   "execution_count": 4,
   "metadata": {},
   "outputs": [
    {
     "data": {
      "text/plain": [
       "('1.4.0.dev20191119', '0.11.0a+3127.gd8677c49a.dirty', '1.0.59')"
      ]
     },
     "execution_count": 4,
     "metadata": {},
     "output_type": "execute_result"
    }
   ],
   "source": [
    "torch.__version__, cudf.__version__, fastai.__version__"
   ]
  },
  {
   "cell_type": "code",
   "execution_count": 5,
   "metadata": {},
   "outputs": [],
   "source": [
    "%load_ext snakeviz\n",
    "# load snakeviz if you want to run profiling"
   ]
  },
  {
   "cell_type": "code",
   "execution_count": 6,
   "metadata": {},
   "outputs": [],
   "source": [
    "# to_cpu = True"
   ]
  },
  {
   "cell_type": "code",
   "execution_count": 7,
   "metadata": {},
   "outputs": [],
   "source": [
    "import datetime\n",
    "datafolder = '/datasets/rossmann/'\n"
   ]
  },
  {
   "cell_type": "code",
   "execution_count": 8,
   "metadata": {},
   "outputs": [
    {
     "name": "stdout",
     "output_type": "stream",
     "text": [
      "Preprocessing...\n",
      "Saving to file...\n",
      "Done.\n"
     ]
    }
   ],
   "source": [
    "traindf = pd.read_csv(f'{datafolder}/train.csv', low_memory=False)\n",
    "testdf = pd.read_csv(f'{datafolder}/test.csv', low_memory=False)\n",
    "storedf = pd.read_csv(f'{datafolder}/store.csv', low_memory=False)\n",
    "print(\"Preprocessing...\")\n",
    "\n",
    "categorical_cols = [\n",
    "    'Store', 'DayOfWeek', 'Year', 'Month', 'Day', 'Week', 'Promo', 'StateHoliday', 'SchoolHoliday',\n",
    "    'StoreType', 'Assortment', 'CompetitionOpenSinceMonth', 'CompetitionOpenSinceYear', 'Promo2', 'Promo2SinceWeek',\n",
    "    'Promo2SinceYear', 'PromoInterval',\n",
    "]\n",
    "continuous_cols = [\n",
    "    'CompetitionDistance'\n",
    "]\n",
    "traindf = traindf.drop(['Customers', 'Open'], axis=1)\n",
    "testdf = testdf.drop(['Open', 'Id'], axis=1)\n",
    "\n",
    "def modify_df(df):\n",
    "    initlen = len(df)\n",
    "\n",
    "    # Expand date into [Year, Month, Day, Week]\n",
    "    df.Date = pd.to_datetime(df.Date)\n",
    "    for attr in ['Year', 'Month', 'Day', 'Week']:\n",
    "        df[attr] = getattr(pd.DatetimeIndex(df.Date), attr.lower())\n",
    "\n",
    "    # Join store.csv and train/test.csv on Store\n",
    "    df = pd.merge(df, storedf, on='Store')\n",
    "\n",
    "    # Fix NaNs in *Since* columns\n",
    "    defaults = {'CompetitionOpenSinceYear': 1900, 'CompetitionOpenSinceMonth': 1,\n",
    "                'Promo2SinceYear': 1900, 'Promo2SinceWeek': 1, 'CompetitionDistance': 0}\n",
    "    df = df.fillna(defaults)\n",
    "\n",
    "    # Ensure no rows lost on the join\n",
    "    assert len(df) == initlen\n",
    "\n",
    "    # Cast continuous columns to float\n",
    "    df = df.astype({x: 'float32' for x in continuous_cols})\n",
    "\n",
    "    # StateHoliday is a special case\n",
    "    df.StateHoliday = df.StateHoliday.astype(str).replace(\"0\", \"d\")\n",
    "\n",
    "    # Move the continuous columns to the end\n",
    "    for column in continuous_cols:\n",
    "        cd = df.pop(column)\n",
    "        df[column] = cd\n",
    "    return df\n",
    "\n",
    "traindf = modify_df(traindf)\n",
    "testdf = modify_df(testdf)\n",
    "\n",
    "# Filter out 0 sales from train\n",
    "traindf = traindf[traindf.Sales > 0]\n",
    "\n",
    "# Index categorical columns across both train and test.\n",
    "for col in categorical_cols:\n",
    "    # Get the default type for the column\n",
    "    default_type = traindf[col].dtype.type() if traindf[col].dtype.type() is not None else ''\n",
    "    # Fix NaNs with the default value for the column's type.\n",
    "    traindf[col] = traindf[col].fillna(default_type)\n",
    "    testdf[col] = testdf[col].fillna(default_type)\n",
    "\n",
    "# Move the sales column to the end\n",
    "sales = traindf.pop('Sales')\n",
    "traindf['Sales'] = sales\n",
    "\n",
    "# Make a validation set from the equivalent period of the test set in the training set, a year before.\n",
    "t0 = testdf.Date.min() - datetime.timedelta(365)\n",
    "t1 = testdf.Date.max() - datetime.timedelta(365)\n",
    "val_mask = (traindf.Date > t0) & (traindf.Date <= t1)\n",
    "valdf, traindf = traindf[val_mask], traindf[~val_mask]\n",
    "\n",
    "# Drop unnecessary columns\n",
    "traindf = traindf.drop('Date', axis=1)\n",
    "valdf = valdf.drop('Date', axis=1)\n",
    "testdf = testdf.drop('Date', axis=1)\n",
    "\n",
    "print(\"Saving to file...\")\n",
    "traindf.to_csv(f'{datafolder}/train_fin.csv', index=False)\n",
    "testdf.to_csv(f'{datafolder}/test_fin.csv', index=False)\n",
    "valdf.to_csv(f'{datafolder}/val_fin.csv', index=False)\n",
    "\n",
    "print(\"Done.\")"
   ]
  },
  {
   "cell_type": "code",
   "execution_count": 9,
   "metadata": {},
   "outputs": [],
   "source": [
    "# traindf.describe()"
   ]
  },
  {
   "cell_type": "markdown",
   "metadata": {},
   "source": [
    "<h3> Dataset Gathering: Define files in the training and validation datasets. </h3>"
   ]
  },
  {
   "cell_type": "code",
   "execution_count": 10,
   "metadata": {},
   "outputs": [],
   "source": [
    "train_set = [datafolder + 'train_fin.csv']\n",
    "valid_set = [datafolder + 'val_fin.csv']"
   ]
  },
  {
   "cell_type": "code",
   "execution_count": 11,
   "metadata": {},
   "outputs": [],
   "source": [
    "cols = list(traindf.columns)"
   ]
  },
  {
   "cell_type": "markdown",
   "metadata": {},
   "source": [
    "<h4>Grab column information</h4>"
   ]
  },
  {
   "cell_type": "code",
   "execution_count": 12,
   "metadata": {},
   "outputs": [],
   "source": [
    "cat_names = [\n",
    "        'Store', 'DayOfWeek', 'Year', 'Month', 'Day', 'Week', 'Promo', 'StateHoliday', 'SchoolHoliday',\n",
    "        'StoreType', 'CompetitionOpenSinceMonth', 'CompetitionOpenSinceYear', 'Promo2', 'Promo2SinceWeek', 'Assortment',\n",
    "        'Promo2SinceYear', 'PromoInterval',\n",
    "    ]\n",
    "cont_names = [\n",
    "        'CompetitionDistance'\n",
    "    ] \n",
    "cat_names = [name for name in cat_names if name in cols]\n",
    "cont_names = [name for name in cont_names if name in cols]\n"
   ]
  },
  {
   "cell_type": "markdown",
   "metadata": {},
   "source": [
    "<h3>Preprocessing:</h3> <p>Select operations to perform, create the Preprocessor object, create dataset iterator object and collect the stats on the training dataset</p>"
   ]
  },
  {
   "cell_type": "code",
   "execution_count": 13,
   "metadata": {},
   "outputs": [
    {
     "name": "stdout",
     "output_type": "stream",
     "text": [
      "CPU times: user 0 ns, sys: 0 ns, total: 0 ns\n",
      "Wall time: 15.7 µs\n"
     ]
    }
   ],
   "source": [
    "%%time\n",
    "a,b,c = Normalize(), FillMissing(), Categorify()\n",
    "procs = [c]"
   ]
  },
  {
   "cell_type": "code",
   "execution_count": 14,
   "metadata": {},
   "outputs": [
    {
     "name": "stdout",
     "output_type": "stream",
     "text": [
      "CPU times: user 0 ns, sys: 0 ns, total: 0 ns\n",
      "Wall time: 5.25 µs\n"
     ]
    }
   ],
   "source": [
    "%time\n",
    "stat_ops = [Moments(), Median(), Encoder()]"
   ]
  },
  {
   "cell_type": "code",
   "execution_count": null,
   "metadata": {},
   "outputs": [],
   "source": [
    "feat_ops = [LogOp(), Export()]"
   ]
  },
  {
   "cell_type": "code",
   "execution_count": 15,
   "metadata": {},
   "outputs": [
    {
     "name": "stdout",
     "output_type": "stream",
     "text": [
      "CPU times: user 0 ns, sys: 0 ns, total: 0 ns\n",
      "Wall time: 108 µs\n"
     ]
    }
   ],
   "source": [
    "%%time\n",
    "proc = Preprocessor(cat_names=cat_names, cont_names=cont_names, label_name=['Sales'], stat_ops=stat_ops, df_ops=procs, to_cpu=True)"
   ]
  },
  {
   "cell_type": "code",
   "execution_count": 16,
   "metadata": {},
   "outputs": [
    {
     "name": "stdout",
     "output_type": "stream",
     "text": [
      "CPU times: user 0 ns, sys: 0 ns, total: 0 ns\n",
      "Wall time: 31.9 µs\n"
     ]
    }
   ],
   "source": [
    "%%time\n",
    "trains_itrs = GPUDatasetIterator(train_set,names=cols, engine='csv')"
   ]
  },
  {
   "cell_type": "code",
   "execution_count": 17,
   "metadata": {},
   "outputs": [
    {
     "name": "stdout",
     "output_type": "stream",
     "text": [
      "CPU times: user 2.36 s, sys: 1.77 s, total: 4.14 s\n",
      "Wall time: 4.25 s\n"
     ]
    }
   ],
   "source": [
    "%%time\n",
    "proc.update_stats(trains_itrs)"
   ]
  },
  {
   "cell_type": "markdown",
   "metadata": {},
   "source": [
    "<h5>Gather embeddings using statistics gathered in the Read phase.</h5>"
   ]
  },
  {
   "cell_type": "code",
   "execution_count": 18,
   "metadata": {},
   "outputs": [
    {
     "data": {
      "text/plain": [
       "([(4, 3),\n",
       "  (13, 7),\n",
       "  (24, 9),\n",
       "  (32, 11),\n",
       "  (8, 5),\n",
       "  (13, 7),\n",
       "  (3, 3),\n",
       "  (3, 3),\n",
       "  (25, 10),\n",
       "  (9, 5),\n",
       "  (5, 4),\n",
       "  (3, 3),\n",
       "  (5, 4),\n",
       "  (1116, 16),\n",
       "  (5, 4),\n",
       "  (53, 15),\n",
       "  (4, 3)],\n",
       " [('Assortment', (4, 3)),\n",
       "  ('CompetitionOpenSinceMonth', (13, 7)),\n",
       "  ('CompetitionOpenSinceYear', (24, 9)),\n",
       "  ('Day', (32, 11)),\n",
       "  ('DayOfWeek', (8, 5)),\n",
       "  ('Month', (13, 7)),\n",
       "  ('Promo', (3, 3)),\n",
       "  ('Promo2', (3, 3)),\n",
       "  ('Promo2SinceWeek', (25, 10)),\n",
       "  ('Promo2SinceYear', (9, 5)),\n",
       "  ('PromoInterval', (5, 4)),\n",
       "  ('SchoolHoliday', (3, 3)),\n",
       "  ('StateHoliday', (5, 4)),\n",
       "  ('Store', (1116, 16)),\n",
       "  ('StoreType', (5, 4)),\n",
       "  ('Week', (53, 15)),\n",
       "  ('Year', (4, 3))])"
      ]
     },
     "execution_count": 18,
     "metadata": {},
     "output_type": "execute_result"
    }
   ],
   "source": [
    "embeds = c.get_emb_sz(proc.stats[\"encoders\"], proc.cat_names)\n",
    "embeddings = [x[1] for x in embeds]\n",
    "embeddings, embeds"
   ]
  },
  {
   "cell_type": "code",
   "execution_count": 19,
   "metadata": {},
   "outputs": [],
   "source": [
    "valids_itr = GPUDatasetIterator(valid_set,names=cols, engine='csv')"
   ]
  },
  {
   "cell_type": "markdown",
   "metadata": {},
   "source": [
    "<h5>Create the file iterators using the FileItrDataset Class.</h5>"
   ]
  },
  {
   "cell_type": "code",
   "execution_count": 20,
   "metadata": {},
   "outputs": [],
   "source": [
    "train_xy = proc.ds_to_tensors(trains_itrs)\n",
    "val_xy = proc.ds_to_tensors(valids_itr)\n"
   ]
  },
  {
   "cell_type": "code",
   "execution_count": 21,
   "metadata": {},
   "outputs": [
    {
     "name": "stdout",
     "output_type": "stream",
     "text": [
      "CPU times: user 0 ns, sys: 0 ns, total: 0 ns\n",
      "Wall time: 10.3 µs\n"
     ]
    }
   ],
   "source": [
    "%%time\n",
    "t_sets = [train_xy[0], train_xy[1], train_xy[2]]\n",
    "v_sets = [val_xy[0], val_xy[1], val_xy[2]]"
   ]
  },
  {
   "cell_type": "code",
   "execution_count": 22,
   "metadata": {},
   "outputs": [],
   "source": [
    "t_batch_sets = [TensorItrDataset(t_sets, batch_size=1024) for i in range(10)]\n",
    "v_batch_sets = [TensorItrDataset(v_sets, batch_size=1024) for i in range(10)]"
   ]
  },
  {
   "cell_type": "code",
   "execution_count": 23,
   "metadata": {},
   "outputs": [
    {
     "name": "stdout",
     "output_type": "stream",
     "text": [
      "CPU times: user 0 ns, sys: 0 ns, total: 0 ns\n",
      "Wall time: 31.2 µs\n"
     ]
    }
   ],
   "source": [
    "%%time\n",
    "t_chain = torch.utils.data.ChainDataset(t_batch_sets)\n",
    "v_chain = torch.utils.data.ChainDataset(v_batch_sets)"
   ]
  },
  {
   "cell_type": "markdown",
   "metadata": {},
   "source": [
    "<h5>Use the Deep Learning Collator to create a collate function to pass to the dataloader.</h5>"
   ]
  },
  {
   "cell_type": "code",
   "execution_count": 25,
   "metadata": {},
   "outputs": [],
   "source": [
    "def gen_col(batch):\n",
    "    batch = batch[0]\n",
    "    return batch[0], batch[1].long()"
   ]
  },
  {
   "cell_type": "code",
   "execution_count": 26,
   "metadata": {},
   "outputs": [
    {
     "name": "stdout",
     "output_type": "stream",
     "text": [
      "CPU times: user 0 ns, sys: 0 ns, total: 0 ns\n",
      "Wall time: 120 µs\n"
     ]
    }
   ],
   "source": [
    "%%time\n",
    "t_data = DLDataLoader(t_chain, collate_fn=gen_col, pin_memory=False, num_workers=8)\n",
    "v_data = DLDataLoader(v_chain, collate_fn=gen_col, pin_memory=False, num_workers=8)"
   ]
  },
  {
   "cell_type": "markdown",
   "metadata": {},
   "source": [
    "<h4>After creating the Dataloaders you can leverage fastai framework to create Machine Learning models</h4>"
   ]
  },
  {
   "cell_type": "code",
   "execution_count": 27,
   "metadata": {},
   "outputs": [],
   "source": [
    "databunch = DataBunch(t_data, v_data, collate_fn=gen_col, device=\"cuda\")"
   ]
  },
  {
   "cell_type": "code",
   "execution_count": 28,
   "metadata": {},
   "outputs": [
    {
     "data": {
      "text/html": [],
      "text/plain": [
       "<IPython.core.display.HTML object>"
      ]
     },
     "metadata": {},
     "output_type": "display_data"
    },
    {
     "name": "stdout",
     "output_type": "stream",
     "text": [
      "LR Finder is complete, type {learner_name}.recorder.plot() to see the graph.\n",
      "CPU times: user 1.86 s, sys: 884 ms, total: 2.74 s\n",
      "Wall time: 2.99 s\n"
     ]
    }
   ],
   "source": [
    "%%time\n",
    "\n",
    "model = TabularModel(emb_szs = embeddings, n_cont=len(cont_names), out_sz=1, layers=[1000, 1000, 1000, 500], y_range=[0,49861.2])\n",
    "\n",
    "learn =  Learner(databunch, model)\n",
    "learn.loss_func = MSELossFlat()\n",
    "# learn.opt_func = AW\n",
    "learn.lr_find()\n"
   ]
  },
  {
   "cell_type": "code",
   "execution_count": 29,
   "metadata": {},
   "outputs": [
    {
     "name": "stdout",
     "output_type": "stream",
     "text": [
      "Min numerical gradient: 1.91E-02\n",
      "Min loss divided by 10: 3.31E-01\n"
     ]
    },
    {
     "data": {
      "image/png": "[encoded data removed]",
      "text/plain": [
       "<Figure size 432x288 with 1 Axes>"
      ]
     },
     "metadata": {
      "needs_background": "light"
     },
     "output_type": "display_data"
    }
   ],
   "source": [
    "learn.recorder.plot(show_moms=True, suggestion=True)"
   ]
  },
  {
   "cell_type": "code",
   "execution_count": 30,
   "metadata": {},
   "outputs": [],
   "source": [
    "learning_rate = 2.75-2\n",
    "epochs = 10\n",
    "from fastai.utils.mod_display import *"
   ]
  },
  {
   "cell_type": "code",
   "execution_count": 31,
   "metadata": {},
   "outputs": [
    {
     "data": {
      "text/html": [
       "<table border=\"1\" class=\"dataframe\">\n",
       "  <thead>\n",
       "    <tr style=\"text-align: left;\">\n",
       "      <th>epoch</th>\n",
       "      <th>train_loss</th>\n",
       "      <th>valid_loss</th>\n",
       "      <th>time</th>\n",
       "    </tr>\n",
       "  </thead>\n",
       "  <tbody>\n",
       "    <tr>\n",
       "      <td>0</td>\n",
       "      <td>86455552.000000</td>\n",
       "      <td>54645956.000000</td>\n",
       "      <td>02:24</td>\n",
       "    </tr>\n",
       "    <tr>\n",
       "      <td>1</td>\n",
       "      <td>62970988.000000</td>\n",
       "      <td>295672576.000000</td>\n",
       "      <td>02:25</td>\n",
       "    </tr>\n",
       "    <tr>\n",
       "      <td>2</td>\n",
       "      <td>64557100.000000</td>\n",
       "      <td>56079480.000000</td>\n",
       "      <td>02:23</td>\n",
       "    </tr>\n",
       "    <tr>\n",
       "      <td>3</td>\n",
       "      <td>72190992.000000</td>\n",
       "      <td>79469320.000000</td>\n",
       "      <td>02:21</td>\n",
       "    </tr>\n",
       "    <tr>\n",
       "      <td>4</td>\n",
       "      <td>64439548.000000</td>\n",
       "      <td>675322368.000000</td>\n",
       "      <td>02:25</td>\n",
       "    </tr>\n",
       "    <tr>\n",
       "      <td>5</td>\n",
       "      <td>66590396.000000</td>\n",
       "      <td>55221592.000000</td>\n",
       "      <td>02:24</td>\n",
       "    </tr>\n",
       "    <tr>\n",
       "      <td>6</td>\n",
       "      <td>62597164.000000</td>\n",
       "      <td>229323856.000000</td>\n",
       "      <td>02:25</td>\n",
       "    </tr>\n",
       "    <tr>\n",
       "      <td>7</td>\n",
       "      <td>63081116.000000</td>\n",
       "      <td>96786160.000000</td>\n",
       "      <td>02:25</td>\n",
       "    </tr>\n",
       "    <tr>\n",
       "      <td>8</td>\n",
       "      <td>63591808.000000</td>\n",
       "      <td>54668464.000000</td>\n",
       "      <td>02:25</td>\n",
       "    </tr>\n",
       "    <tr>\n",
       "      <td>9</td>\n",
       "      <td>66510692.000000</td>\n",
       "      <td>54452020.000000</td>\n",
       "      <td>02:25</td>\n",
       "    </tr>\n",
       "  </tbody>\n",
       "</table>"
      ],
      "text/plain": [
       "<IPython.core.display.HTML object>"
      ]
     },
     "metadata": {},
     "output_type": "display_data"
    },
    {
     "name": "stdout",
     "output_type": "stream",
     "text": [
      " \n",
      "*** Profile stats marshalled to file '/tmp/tmp0q9l2t9x'. \n",
      "Embedding SnakeViz in this document...\n"
     ]
    },
    {
     "data": {
      "text/html": [
       "\n",
       "<iframe id='snakeviz-d7ce252e-1096-11ea-816f-0242ac110002' frameborder=0 seamless width='100%' height='1000'></iframe>\n",
       "<script>document.getElementById(\"snakeviz-d7ce252e-1096-11ea-816f-0242ac110002\").setAttribute(\"src\", \"http://\" + document.location.hostname + \":8080/snakeviz/%2Ftmp%2Ftmp0q9l2t9x\")</script>\n"
      ],
      "text/plain": [
       "<IPython.core.display.HTML object>"
      ]
     },
     "metadata": {},
     "output_type": "display_data"
    }
   ],
   "source": [
    "start = time()\n",
    "learn.fit(epochs,learning_rate)\n",
    "t_final = time() - start "
   ]
  },
  {
   "cell_type": "code",
   "execution_count": 32,
   "metadata": {},
   "outputs": [],
   "source": [
    "del learn \n",
    "del model\n",
    "del databunch\n",
    "torch.cuda.empty_cache() "
   ]
  },
  {
   "cell_type": "code",
   "execution_count": 33,
   "metadata": {},
   "outputs": [
    {
     "data": {
      "text/plain": [
       "1447.0645787715912"
      ]
     },
     "execution_count": 33,
     "metadata": {},
     "output_type": "execute_result"
    }
   ],
   "source": [
    "t_final"
   ]
  },
  {
   "cell_type": "code",
   "execution_count": null,
   "metadata": {},
   "outputs": [],
   "source": []
  }
 ],
 "metadata": {
  "file_extension": ".py",
  "kernelspec": {
   "display_name": "Python 3",
   "language": "python",
   "name": "python3"
  },
  "language_info": {
   "codemirror_mode": {
    "name": "ipython",
    "version": 3
   },
   "file_extension": ".py",
   "mimetype": "text/x-python",
   "name": "python",
   "nbconvert_exporter": "python",
   "pygments_lexer": "ipython3",
   "version": "3.7.3"
  },
  "mimetype": "text/x-python",
  "name": "python",
  "npconvert_exporter": "python",
  "pygments_lexer": "ipython3",
  "version": 3
 },
 "nbformat": 4,
 "nbformat_minor": 4
}
